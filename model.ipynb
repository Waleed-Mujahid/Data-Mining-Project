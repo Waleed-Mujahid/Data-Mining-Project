{
 "cells": [
  {
   "cell_type": "code",
   "execution_count": 88,
   "metadata": {},
   "outputs": [],
   "source": [
    "import pandas as pd \n",
    "import pickle\n",
    "from sklearn.model_selection import train_test_split\n",
    "from sklearn.metrics import accuracy_score\n",
    "from sklearn.ensemble import RandomForestClassifier\n",
    "from sklearn.pipeline import Pipeline\n",
    "from sklearn.compose import ColumnTransformer\n",
    "from sklearn.preprocessing import StandardScaler, OneHotEncoder"
   ]
  },
  {
   "cell_type": "code",
   "execution_count": 89,
   "metadata": {},
   "outputs": [],
   "source": [
    "def fitModel(inputFile, outputFile):\n",
    "    # Load your dataset\n",
    "    df = pd.read_csv(inputFile)\n",
    "\n",
    "    # Separate features and target\n",
    "    features = df.drop('target', axis=1)\n",
    "    target = df['target']\n",
    "\n",
    "    # Identify categorical and numerical columns\n",
    "    categorical_cols = features.select_dtypes(include=['object', 'category']).columns\n",
    "    numerical_cols = features.select_dtypes(include=['int64', 'float64']).columns\n",
    "\n",
    "    # Create a column transformer\n",
    "    preprocessor = ColumnTransformer(\n",
    "        transformers=[\n",
    "            ('num', StandardScaler(), numerical_cols),\n",
    "            ('cat', OneHotEncoder(), categorical_cols)\n",
    "        ])\n",
    "\n",
    "    # Create the pipeline\n",
    "    model_pipeline = Pipeline([\n",
    "        ('preprocessor', preprocessor),\n",
    "        ('model', RandomForestClassifier(random_state=42))\n",
    "    ])\n",
    "\n",
    "    # Split the data\n",
    "    X_train, X_test, y_train, y_test = train_test_split(\n",
    "        features, target, test_size=0.2, random_state=42)\n",
    "\n",
    "    # Fit the model\n",
    "    model_pipeline.fit(X_train, y_train)\n",
    "\n",
    "    # Predict and evaluate\n",
    "    y_pred = model_pipeline.predict(X_test)\n",
    "    print(f'The accuracy for {inputFile} is {accuracy_score(y_test, y_pred)}')\n",
    "    \n",
    "    with open(outputFile, 'wb') as file:\n",
    "        pickle.dump(model_pipeline, file)"
   ]
  },
  {
   "cell_type": "code",
   "execution_count": 90,
   "metadata": {},
   "outputs": [
    {
     "name": "stdout",
     "output_type": "stream",
     "text": [
      "The accuracy for data_clean.csv is 0.8305084745762712\n",
      "The accuracy for cleveland_data_clean.csv is 0.7\n",
      "The accuracy for heart_clean.csv is 0.8315217391304348\n"
     ]
    }
   ],
   "source": [
    "fitModel('data_clean.csv', 'model1.pkl')\n",
    "fitModel('cleveland_data_clean.csv', 'model2.pkl')\n",
    "fitModel('heart_clean.csv', 'model3.pkl')"
   ]
  },
  {
   "cell_type": "code",
   "execution_count": 79,
   "metadata": {},
   "outputs": [
    {
     "name": "stdout",
     "output_type": "stream",
     "text": [
      "The accuracy for data_clean.csv is 0.9625850340136054\n"
     ]
    }
   ],
   "source": [
    "with open('model.pkl', 'rb') as file:\n",
    "    loaded_pipeline = pickle.load(file)\n",
    "\n",
    "df = pd.read_csv('data_clean.csv')\n",
    "X = df.drop('target', axis=1)\n",
    "y = df['target']\n",
    "y_pred = loaded_pipeline.predict(X)\n",
    "print(f'The accuracy for data_clean.csv is {accuracy_score(y, y_pred)}')"
   ]
  }
 ],
 "metadata": {
  "kernelspec": {
   "display_name": "Python 3",
   "language": "python",
   "name": "python3"
  },
  "language_info": {
   "codemirror_mode": {
    "name": "ipython",
    "version": 3
   },
   "file_extension": ".py",
   "mimetype": "text/x-python",
   "name": "python",
   "nbconvert_exporter": "python",
   "pygments_lexer": "ipython3",
   "version": "3.11.0"
  }
 },
 "nbformat": 4,
 "nbformat_minor": 2
}
